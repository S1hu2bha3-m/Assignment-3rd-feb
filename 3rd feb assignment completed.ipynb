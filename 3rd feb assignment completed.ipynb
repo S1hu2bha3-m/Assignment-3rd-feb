{
 "cells": [
  {
   "cell_type": "markdown",
   "id": "76a94044-bfd2-44c3-95c3-5b8e4d23f373",
   "metadata": {},
   "source": [
    "Q1. Which keyword is used to create a function? Create a function to return a list of odd numbers in the \n",
    "range of 1 to 25."
   ]
  },
  {
   "cell_type": "markdown",
   "id": "32455d33-321e-4fb8-9246-758c119a5910",
   "metadata": {},
   "source": [
    "Ans. The \"def\" keyword is used to create a function in Python.\n",
    "\n",
    "Here's an example of a function that returns a list of odd numbers in the range of 1 to 25:\n"
   ]
  },
  {
   "cell_type": "code",
   "execution_count": 6,
   "id": "65f7a625-d84c-4c0d-9693-87b03d9d210d",
   "metadata": {},
   "outputs": [
    {
     "name": "stdout",
     "output_type": "stream",
     "text": [
      "[1, 3, 5, 7, 9, 11, 13, 15, 17, 19, 21, 23, 25]\n"
     ]
    }
   ],
   "source": [
    "def odd_num():\n",
    "    return [x for x in range(1, 26) if x % 2 != 0]\n",
    "\n",
    "print(odd_num())\n"
   ]
  },
  {
   "cell_type": "markdown",
   "id": "590abda9-4a41-4118-afc4-82a5c37c24a7",
   "metadata": {},
   "source": [
    "Q2. Why *args and **kwargs is used in some functions? Create a function each for *args and **kwargs \n",
    "to demonstrate their use."
   ]
  },
  {
   "cell_type": "markdown",
   "id": "4dd9d75a-ede1-40a7-bfaf-c15524879eec",
   "metadata": {},
   "source": [
    "Ans. \"*args\" and \"**kwargs\" are used in functions to allow for a flexible number of arguments. \"*args\" is used to pass a non-keyworded, variable-length argument list, and \"**kwargs\" is used to pass keyworded, variable-length arguments."
   ]
  },
  {
   "cell_type": "markdown",
   "id": "718b8ab1-c54f-4e31-a3a0-579cb9829181",
   "metadata": {},
   "source": [
    "An example of a function that uses *args:"
   ]
  },
  {
   "cell_type": "code",
   "execution_count": 7,
   "id": "3fd6eed8-5291-43ce-b2f5-13cc3f09812d",
   "metadata": {},
   "outputs": [
    {
     "name": "stdout",
     "output_type": "stream",
     "text": [
      "1\n",
      "2\n",
      "3\n",
      "4\n",
      "5\n",
      "8\n",
      "9\n",
      "7\n"
     ]
    }
   ],
   "source": [
    "def func_args(*args):\n",
    "    for arg in args:\n",
    "        print(arg)\n",
    "\n",
    "func_args(1, 2, 3, 4, 5, 8, 9, 7)\n"
   ]
  },
  {
   "cell_type": "markdown",
   "id": "6bceffb2-a999-40a5-b31d-94d537e1da87",
   "metadata": {},
   "source": [
    "And an example of a function that uses **kwargs:"
   ]
  },
  {
   "cell_type": "code",
   "execution_count": 8,
   "id": "f7d29983-96e1-45e9-83a0-7932c69ed346",
   "metadata": {},
   "outputs": [
    {
     "name": "stdout",
     "output_type": "stream",
     "text": [
      "a: 5\n",
      "b: 4\n",
      "c: 7\n"
     ]
    }
   ],
   "source": [
    "def func_kwargs(**kwargs):\n",
    "    for key, value in kwargs.items():\n",
    "        print(f\"{key}: {value}\")\n",
    "\n",
    "func_kwargs(a=5, b=4, c=7)\n"
   ]
  },
  {
   "cell_type": "markdown",
   "id": "cfa8b608-459e-4c6a-aa8f-d6d8f23d9d32",
   "metadata": {},
   "source": [
    "Q3.  What is an iterator in python? Name the method used to initialise the iterator object and the method \n",
    "used for iteration. Use these methods to print the first five elements of the given list [2, 4, 6, 8, 10, 12, 14, \n",
    "16, 18, 20]."
   ]
  },
  {
   "cell_type": "markdown",
   "id": "61a05bdd-c59f-489d-a67e-91d5ee56206d",
   "metadata": {},
   "source": [
    "Ans. In Python, an iterator is an object that implements the iterator protocol, which consists of two methods: __iter__() and __next__(). The __iter__() method is used to initialize the iterator object, and the __next__() method is used to iterate through the elements of the iterator.\n",
    "\n",
    "Here's an example of using these methods to print the first five elements of the list [2, 4, 6, 8, 10, 12, 14, 16, 18, 20]:"
   ]
  },
  {
   "cell_type": "code",
   "execution_count": 11,
   "id": "a75ac79a-121e-4bd7-b330-71b2431e9832",
   "metadata": {},
   "outputs": [
    {
     "name": "stdout",
     "output_type": "stream",
     "text": [
      "2\n",
      "4\n",
      "6\n",
      "8\n",
      "10\n"
     ]
    }
   ],
   "source": [
    "l = [2, 4, 6, 8, 10, 12, 14, 16, 18, 20]\n",
    "\n",
    "ite = iter(l)\n",
    "\n",
    "for i in range(0,5):\n",
    "    print(next(ite))\n"
   ]
  },
  {
   "cell_type": "markdown",
   "id": "27877da0-a6fe-44a6-a5fa-03d0405753b9",
   "metadata": {},
   "source": [
    "Q4.  What is a generator function in python? Why yield keyword is used? Give an example of a generator \n",
    "function."
   ]
  },
  {
   "cell_type": "markdown",
   "id": "78576d26-2d57-4a1d-834c-3d39546300b1",
   "metadata": {},
   "source": [
    "Ans.A generator function in Python is a special kind of function that returns a generator iterator. The yield keyword is used in a generator function to produce a value and suspend the function's execution, instead of returning a value and terminating the function like a normal function. The function can then be resumed from where it left off the next time it's called, allowing it to generate a sequence of values over time.\n",
    "\n",
    "An example of a generator function that generates the sequence of fibonacci numbers:"
   ]
  },
  {
   "cell_type": "code",
   "execution_count": 13,
   "id": "9d404f3b-b54d-47f4-96fd-5c590ae4cf2a",
   "metadata": {},
   "outputs": [
    {
     "name": "stdout",
     "output_type": "stream",
     "text": [
      "0\n",
      "1\n",
      "1\n",
      "2\n",
      "3\n",
      "5\n",
      "8\n",
      "13\n",
      "21\n",
      "34\n"
     ]
    }
   ],
   "source": [
    "def fibonacci():\n",
    "    a, b = 0, 1\n",
    "    while True:\n",
    "        yield a\n",
    "        a, b = b, a + b\n",
    "\n",
    "fib = fibonacci()\n",
    "\n",
    "for i in range(10):\n",
    "    print(next(fib))\n"
   ]
  },
  {
   "cell_type": "markdown",
   "id": "0b8ed6c2-fcd1-4e54-91e2-90e1231cb9fd",
   "metadata": {},
   "source": [
    "Q5. Create a generator function for prime numbers less than 1000. Use the next() method to print the \n",
    "first 20 prime numbers."
   ]
  },
  {
   "cell_type": "code",
   "execution_count": 14,
   "id": "0b09998d-5f19-4d5e-9969-4bceeb15fc42",
   "metadata": {},
   "outputs": [
    {
     "name": "stdout",
     "output_type": "stream",
     "text": [
      "2\n",
      "3\n",
      "5\n",
      "7\n",
      "11\n",
      "13\n",
      "17\n",
      "19\n",
      "23\n",
      "29\n",
      "31\n",
      "37\n",
      "41\n",
      "43\n",
      "47\n",
      "53\n",
      "59\n",
      "61\n",
      "67\n",
      "71\n"
     ]
    }
   ],
   "source": [
    "def primes_less_than_1000():\n",
    "    primes = []\n",
    "    for n in range(2, 1000):\n",
    "        for p in primes:\n",
    "            if n % p == 0:\n",
    "                break\n",
    "        else:\n",
    "            primes.append(n)\n",
    "            yield n\n",
    "\n",
    "primes = primes_less_than_1000()\n",
    "\n",
    "for i in range(20):\n",
    "    print(next(primes))\n"
   ]
  },
  {
   "cell_type": "markdown",
   "id": "06095a12-7b92-445c-bc2c-936c628df148",
   "metadata": {},
   "source": [
    "Q6. Write a python program to print the first 10 Fibonacci numbers using a while loop."
   ]
  },
  {
   "cell_type": "markdown",
   "id": "ceb0c6a9-6e88-43de-b37d-93cf5da132d1",
   "metadata": {},
   "source": [
    "Ans. A Python program that prints the first 10 Fibonacci numbers using a while loop:"
   ]
  },
  {
   "cell_type": "code",
   "execution_count": 15,
   "id": "f7b4cf24-77f3-4fb4-830a-bb9fa30ca134",
   "metadata": {},
   "outputs": [
    {
     "name": "stdout",
     "output_type": "stream",
     "text": [
      "0\n",
      "1\n",
      "1\n",
      "2\n",
      "3\n",
      "5\n",
      "8\n",
      "13\n",
      "21\n",
      "34\n"
     ]
    }
   ],
   "source": [
    "a, b = 0, 1\n",
    "count = 0\n",
    "\n",
    "while count < 10:\n",
    "    print(a)\n",
    "    a, b = b, a + b\n",
    "    count += 1\n"
   ]
  },
  {
   "cell_type": "markdown",
   "id": "d98f8d57-a477-4154-8fb9-947cb2115b5e",
   "metadata": {},
   "source": [
    "Q7. Write a List Comprehension to iterate through the given string: ‘pwskills’.\n",
    "\n",
    "Expected output: ['p', 'w', 's', 'k', 'i', 'l', 'l', 's'] "
   ]
  },
  {
   "cell_type": "markdown",
   "id": "1a392ff1-1f32-4854-ad06-eaef053529f8",
   "metadata": {},
   "source": [
    "Ans. A list comprehension that iterates through the given string \"pwskills\":"
   ]
  },
  {
   "cell_type": "code",
   "execution_count": 16,
   "id": "848c3fab-4476-401a-9726-62c70721dfad",
   "metadata": {},
   "outputs": [
    {
     "name": "stdout",
     "output_type": "stream",
     "text": [
      "['p', 'w', 's', 'k', 'i', 'l', 'l', 's']\n"
     ]
    }
   ],
   "source": [
    "string = 'pwskills'\n",
    "letters = [letter for letter in string]\n",
    "\n",
    "print(letters)\n",
    "\n"
   ]
  },
  {
   "cell_type": "markdown",
   "id": "609f732f-b432-4931-908c-94ec3d24a9fa",
   "metadata": {},
   "source": [
    "Q8. Write a python program to check whether a given number is Palindrome or not using a while loop."
   ]
  },
  {
   "cell_type": "markdown",
   "id": "cccb6a81-afd1-44f4-b68e-cb5a45626c20",
   "metadata": {},
   "source": [
    "Ans. A Python program that checks if a given number is a palindrome using a while loop:"
   ]
  },
  {
   "cell_type": "code",
   "execution_count": 17,
   "id": "39fad046-26ba-4eaa-814b-3b30e7bddaad",
   "metadata": {},
   "outputs": [
    {
     "name": "stdout",
     "output_type": "stream",
     "text": [
      "121 is a palindrome.\n"
     ]
    }
   ],
   "source": [
    "def is_palindrome(num):\n",
    "    original = num\n",
    "    reverse = 0\n",
    "    while num > 0:\n",
    "        reverse = (reverse * 10) + (num % 10)\n",
    "        num = num // 10\n",
    "    return original == reverse\n",
    "\n",
    "number = 121\n",
    "if is_palindrome(number):\n",
    "    print(f\"{number} is a palindrome.\")\n",
    "else:\n",
    "    print(f\"{number} is not a palindrome.\")\n"
   ]
  },
  {
   "cell_type": "markdown",
   "id": "47830c9a-9d98-4ce3-9699-a3e96300b7c5",
   "metadata": {},
   "source": [
    "Q9. Write a code to print odd numbers from 1 to 100 using list comprehension.\n",
    "\n",
    "Note: Use a list comprehension to create a list from 1 to 100 and use another List comprehension to filter \n",
    "out odd numbers."
   ]
  },
  {
   "cell_type": "code",
   "execution_count": 12,
   "id": "59f8feea-0663-40b8-8ee8-fac5de51b9eb",
   "metadata": {},
   "outputs": [
    {
     "name": "stdout",
     "output_type": "stream",
     "text": [
      "[1, 3, 5, 7, 9, 11, 13, 15, 17, 19, 21, 23, 25, 27, 29, 31, 33, 35, 37, 39, 41, 43, 45, 47, 49, 51, 53, 55, 57, 59, 61, 63, 65, 67, 69, 71, 73, 75, 77, 79, 81, 83, 85, 87, 89, 91, 93, 95, 97, 99]\n"
     ]
    }
   ],
   "source": [
    "# using comprehension\n",
    "odd_num = [x for x in range(1, 101) if x % 2 != 0]\n",
    "print(odd_num)"
   ]
  },
  {
   "cell_type": "code",
   "execution_count": null,
   "id": "b2231041-c1ff-45f6-978a-b6182c50bb78",
   "metadata": {},
   "outputs": [],
   "source": []
  }
 ],
 "metadata": {
  "kernelspec": {
   "display_name": "Python 3 (ipykernel)",
   "language": "python",
   "name": "python3"
  },
  "language_info": {
   "codemirror_mode": {
    "name": "ipython",
    "version": 3
   },
   "file_extension": ".py",
   "mimetype": "text/x-python",
   "name": "python",
   "nbconvert_exporter": "python",
   "pygments_lexer": "ipython3",
   "version": "3.10.8"
  }
 },
 "nbformat": 4,
 "nbformat_minor": 5
}
